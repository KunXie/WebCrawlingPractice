{
 "cells": [
  {
   "cell_type": "markdown",
   "metadata": {},
   "source": [
    "##### requests"
   ]
  },
  {
   "cell_type": "code",
   "execution_count": 57,
   "metadata": {},
   "outputs": [
    {
     "name": "stdout",
     "output_type": "stream",
     "text": [
      "{\n",
      "  \"args\": {}, \n",
      "  \"headers\": {\n",
      "    \"Accept\": \"*/*\", \n",
      "    \"Accept-Encoding\": \"gzip, deflate\", \n",
      "    \"Connection\": \"close\", \n",
      "    \"Host\": \"httpbin.org\", \n",
      "    \"User-Agent\": \"python-requests/2.19.1\"\n",
      "  }, \n",
      "  \"origin\": \"117.155.102.178\", \n",
      "  \"url\": \"http://httpbin.org/get\"\n",
      "}\n",
      "\n"
     ]
    }
   ],
   "source": [
    "# 本机ip: 117.155.102.178\n",
    "import requests\n",
    "res = requests.get(\"http://httpbin.org/get\")\n",
    "print(res.text)"
   ]
  },
  {
   "cell_type": "code",
   "execution_count": 56,
   "metadata": {},
   "outputs": [
    {
     "name": "stdout",
     "output_type": "stream",
     "text": [
      "Error HTTPConnectionPool(host='121.232.148.36', port=9000): Read timed out. (read timeout=10)\n"
     ]
    }
   ],
   "source": [
    "import requests\n",
    "\n",
    "IP = \"121.232.148.36\"\n",
    "PORT = \"9000\"\n",
    "proxy = \"{IP}:{PORT}\".format(IP=IP, PORT=PORT)\n",
    "proxies = {\n",
    "    \"http\": \"http://\" + proxy,\n",
    "    \"https\": \"https://\" + proxy\n",
    "}\n",
    "\n",
    "try:\n",
    "    res = requests.get(\"http://httpbin.org/get\", proxies=proxies, timeout=10)\n",
    "    print(res.text)\n",
    "except Exception as e:\n",
    "    print(\"Error\", e)"
   ]
  },
  {
   "cell_type": "markdown",
   "metadata": {},
   "source": [
    "##### selenium"
   ]
  },
  {
   "cell_type": "code",
   "execution_count": 90,
   "metadata": {},
   "outputs": [
    {
     "name": "stdout",
     "output_type": "stream",
     "text": [
      "http://www.66ip.cn/1.html\n",
      "http://www.66ip.cn/2.html\n",
      "http://www.66ip.cn/3.html\n",
      "http://www.66ip.cn/4.html\n",
      "http://www.66ip.cn/5.html\n",
      "http://www.66ip.cn/6.html\n",
      "http://www.66ip.cn/7.html\n",
      "http://www.66ip.cn/8.html\n",
      "http://www.66ip.cn/9.html\n",
      "http://www.66ip.cn/10.html\n"
     ]
    }
   ],
   "source": [
    "for page in range(1, 11):\n",
    "    url = \"http://www.66ip.cn/{}.html\".format(page)\n",
    "    print(url)"
   ]
  },
  {
   "cell_type": "code",
   "execution_count": 91,
   "metadata": {},
   "outputs": [],
   "source": [
    "import requests\n",
    "url = \"http://www.66ip.cn/1.html\"\n",
    "res = requests.get(url)\n",
    "res.encoding='utf-8'"
   ]
  },
  {
   "cell_type": "code",
   "execution_count": 93,
   "metadata": {},
   "outputs": [],
   "source": [
    "#res.text"
   ]
  },
  {
   "cell_type": "code",
   "execution_count": 94,
   "metadata": {},
   "outputs": [],
   "source": [
    "from bs4 import BeautifulSoup\n",
    "soup = BeautifulSoup(res.text, 'lxml')"
   ]
  },
  {
   "cell_type": "code",
   "execution_count": 119,
   "metadata": {},
   "outputs": [
    {
     "name": "stdout",
     "output_type": "stream",
     "text": [
      "47.105.164.63:80\n",
      "162.220.82.90:60994\n",
      "91.185.48.224:53638\n",
      "39.137.69.1:0\n",
      "39.137.69.10:8080\n",
      "122.252.182.80:53281\n",
      "91.93.164.28:58987\n"
     ]
    }
   ],
   "source": [
    "data = soup.find_all('tr')\n",
    "# 这里要剔出前面两个无用元素\n",
    "data.pop(0)\n",
    "data.pop(0)\n",
    "for item in data:\n",
    "    print(\":\".join([item.find_all('td')[0].text, item.find_all('td')[1].text]))"
   ]
  },
  {
   "cell_type": "code",
   "execution_count": 117,
   "metadata": {},
   "outputs": [
    {
     "name": "stdout",
     "output_type": "stream",
     "text": [
      "47.105.164.63:80\n",
      "162.220.82.90:60994\n",
      "91.185.48.224:53638\n",
      "39.137.69.1:0\n",
      "39.137.69.10:8080\n",
      "122.252.182.80:53281\n",
      "91.93.164.28:58987\n"
     ]
    }
   ],
   "source": [
    "\n",
    "    "
   ]
  },
  {
   "cell_type": "code",
   "execution_count": null,
   "metadata": {},
   "outputs": [],
   "source": []
  },
  {
   "cell_type": "code",
   "execution_count": null,
   "metadata": {},
   "outputs": [],
   "source": []
  }
 ],
 "metadata": {
  "kernelspec": {
   "display_name": "Python [conda env:WebCrawlingEnv]",
   "language": "python",
   "name": "conda-env-WebCrawlingEnv-py"
  },
  "language_info": {
   "codemirror_mode": {
    "name": "ipython",
    "version": 3
   },
   "file_extension": ".py",
   "mimetype": "text/x-python",
   "name": "python",
   "nbconvert_exporter": "python",
   "pygments_lexer": "ipython3",
   "version": "3.6.6"
  }
 },
 "nbformat": 4,
 "nbformat_minor": 2
}

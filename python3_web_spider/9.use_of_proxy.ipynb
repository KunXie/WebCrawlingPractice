{
 "cells": [
  {
   "cell_type": "markdown",
   "metadata": {},
   "source": [
    "##### requests"
   ]
  },
  {
   "cell_type": "code",
   "execution_count": 57,
   "metadata": {},
   "outputs": [
    {
     "name": "stdout",
     "output_type": "stream",
     "text": [
      "{\n",
      "  \"args\": {}, \n",
      "  \"headers\": {\n",
      "    \"Accept\": \"*/*\", \n",
      "    \"Accept-Encoding\": \"gzip, deflate\", \n",
      "    \"Connection\": \"close\", \n",
      "    \"Host\": \"httpbin.org\", \n",
      "    \"User-Agent\": \"python-requests/2.19.1\"\n",
      "  }, \n",
      "  \"origin\": \"117.155.102.178\", \n",
      "  \"url\": \"http://httpbin.org/get\"\n",
      "}\n",
      "\n"
     ]
    }
   ],
   "source": [
    "# 本机ip: 117.155.102.178\n",
    "import requests\n",
    "res = requests.get(\"http://httpbin.org/get\")\n",
    "print(res.text)"
   ]
  },
  {
   "cell_type": "code",
   "execution_count": 56,
   "metadata": {},
   "outputs": [
    {
     "name": "stdout",
     "output_type": "stream",
     "text": [
      "Error HTTPConnectionPool(host='121.232.148.36', port=9000): Read timed out. (read timeout=10)\n"
     ]
    }
   ],
   "source": [
    "import requests\n",
    "\n",
    "IP = \"121.232.148.36\"\n",
    "PORT = \"9000\"\n",
    "proxy = \"{IP}:{PORT}\".format(IP=IP, PORT=PORT)\n",
    "proxies = {\n",
    "    \"http\": \"http://\" + proxy,\n",
    "    \"https\": \"https://\" + proxy\n",
    "}\n",
    "\n",
    "try:\n",
    "    res = requests.get(\"http://httpbin.org/get\", proxies=proxies, timeout=10)\n",
    "    print(res.text)\n",
    "except Exception as e:\n",
    "    print(\"Error\", e)"
   ]
  },
  {
   "cell_type": "markdown",
   "metadata": {},
   "source": [
    "##### selenium"
   ]
  },
  {
   "cell_type": "code",
   "execution_count": 1,
   "metadata": {},
   "outputs": [],
   "source": [
    "from pyquery import PyQuery as pq\n",
    "import requests\n",
    "HEADERS = {\n",
    "        'Accept': 'text/html,application/xhtml+xml,application/xml;q=0.9,image/webp,image/apng,*/*;q=0.8',\n",
    "        'Accept-Encoding': 'gzip, deflate',\n",
    "        'Accept-Language': 'zh-CN,zh;q=0.8,en;q=0.6,ja;q=0.4,zh-TW;q=0.2,mt;q=0.2',\n",
    "        'Cache-Control': 'max-age=0',\n",
    "        'Connection': 'keep-alive',\n",
    "        'Cookie': 'IPLOC=CN1100; SUID=6FEDCF3C541C940A000000005968CF55; SUV=1500041046435211; ABTEST=0|1500041048|v1; SNUID=CEA85AE02A2F7E6EAFF9C1FE2ABEBE6F; weixinIndexVisited=1; JSESSIONID=aaar_m7LEIW-jg_gikPZv; ld=Wkllllllll2BzGMVlllllVOo8cUlllll5G@HbZllll9lllllRklll5@@@@@@@@@@; LSTMV=212%2C350; LCLKINT=4650; ppinf=5|1500042908|1501252508|dHJ1c3Q6MToxfGNsaWVudGlkOjQ6MjAxN3x1bmlxbmFtZTo1NDolRTUlQjQlOTQlRTUlQkElODYlRTYlODklOEQlRTQlQjglQTglRTklOUQlOTklRTglQTclODV8Y3J0OjEwOjE1MDAwNDI5MDh8cmVmbmljazo1NDolRTUlQjQlOTQlRTUlQkElODYlRTYlODklOEQlRTQlQjglQTglRTklOUQlOTklRTglQTclODV8dXNlcmlkOjQ0Om85dDJsdUJfZWVYOGRqSjRKN0xhNlBta0RJODRAd2VpeGluLnNvaHUuY29tfA; pprdig=ppyIobo4mP_ZElYXXmRTeo2q9iFgeoQ87PshihQfB2nvgsCz4FdOf-kirUuntLHKTQbgRuXdwQWT6qW-CY_ax5VDgDEdeZR7I2eIDprve43ou5ZvR0tDBlqrPNJvC0yGhQ2dZI3RqOQ3y1VialHsFnmTiHTv7TWxjliTSZJI_Bc; sgid=27-27790591-AVlo1pzPiad6EVQdGDbmwnvM; PHPSESSID=mkp3erf0uqe9ugjg8os7v1e957; SUIR=CEA85AE02A2F7E6EAFF9C1FE2ABEBE6F; sct=11; ppmdig=1500046378000000b7527c423df68abb627d67a0666fdcee; successCount=1|Fri, 14 Jul 2017 15:38:07 GMT',\n",
    "        'Host': 'weixin.sogou.com',\n",
    "        'Upgrade-Insecure-Requests': '1',\n",
    "        'User-Agent': 'Mozilla/5.0 (Macintosh; Intel Mac OS X 10_12_3) AppleWebKit/537.36 (KHTML, like Gecko) Chrome/59.0.3071.115 Safari/537.36'\n",
    "    }\n",
    "url = \"https://weixin.sogou.com/weixin?type=2&query=nba\""
   ]
  },
  {
   "cell_type": "code",
   "execution_count": 2,
   "metadata": {},
   "outputs": [],
   "source": [
    "res = requests.get(url, headers=HEADERS)"
   ]
  },
  {
   "cell_type": "code",
   "execution_count": 7,
   "metadata": {},
   "outputs": [],
   "source": [
    "doc = pq(res.text)\n",
    "items = doc('.news-box .news-list li .txt-box h3 a').items()"
   ]
  },
  {
   "cell_type": "code",
   "execution_count": 9,
   "metadata": {},
   "outputs": [
    {
     "name": "stdout",
     "output_type": "stream",
     "text": [
      "http://mp.weixin.qq.com/s?src=11&timestamp=1538458467&ver=1157&signature=UJgccj4A*cWWda5Amq2zj1w4dwxFeEBI1P70Tq*2tTTCbvjRJ5kjUujefFSRMVxP8H8L6KHO6CjxzCHAYnW60jW1BS7*VghX-ONN9hNyI0d8K36mPWhp8UYyPfB6ATyH&new=1\n",
      "http://mp.weixin.qq.com/s?src=11&timestamp=1538458467&ver=1157&signature=Nf0uvVArLKBNvk2ApY2DgYHWIy-iMcN3vVGbwkUOgewBMjd0KXXllx4zGp5B-Y6NBW1hJB9aHrZ1QQnlOvSODSHavpe3268FVdolort3KZTKEC3jrEPN4PQfxXWXm7Zb&new=1\n",
      "http://mp.weixin.qq.com/s?src=11&timestamp=1538458467&ver=1157&signature=GNjbUV*ykdI9Lcg4OAU80vDQWhC1NLPAKsJz1Awvm3-6ykCiOOBt10TsDk3FsRkNx0B0XVaG6UjRkybv9P2*TrYejB5AiLLJRuxcpzYrkgKYTyFpAdjy*0-Kmep0tXow&new=1\n",
      "http://mp.weixin.qq.com/s?src=11&timestamp=1538458467&ver=1157&signature=JonIiul4eoxasBrBbXwPoVzNjZpx*7IOfJGvh7acV6-ogZzYMqvuts98nptrxLAPIxr1nmElw7F2Bo19QCqHwc*EwpOoJs2eIjW3zeBxk-3UpuNlFdjQLnigAJjhALYx&new=1\n",
      "http://mp.weixin.qq.com/s?src=11&timestamp=1538458467&ver=1157&signature=JonIiul4eoxasBrBbXwPoVzNjZpx*7IOfJGvh7acV69Z15b-rRrtdb6wNCc6tbG3DtkckilW-ZoYnQKTBBW1sK8hBDle0xYdzwqa4F95NyGMqq*ImDbrobYbYnFxz5m9&new=1\n",
      "http://mp.weixin.qq.com/s?src=11&timestamp=1538458467&ver=1157&signature=802UK829lk2zUDlLCRuWmdLG9EmqMPVZp-mNvVqps0s*VslOwBqWvqqXVAObccpG7lp9Mh9Kty9SI2O4H6QM1nEzvwazEQDGbRzt7T7E7D1b39mpDu8R92kQxYr2ZuDN&new=1\n",
      "http://mp.weixin.qq.com/s?src=11&timestamp=1538458467&ver=1157&signature=RjArrJh2maGFZqj6c3dOTY7aaV4UjUrISCulU1XYnJXf0Qe787UXQA9Zj-iGcceqnKwbAkDEeHe6gnr2LFiBNOi62R90vdp2yVKVq81MHsh2aM6FE*GdZCE0DW4KLc-x&new=1\n",
      "http://mp.weixin.qq.com/s?src=11&timestamp=1538458467&ver=1157&signature=m9u4p4kW4Q6Bcn0kD1gxSdS5txHGAyN1lvlG35KPgtazWmRQzWrcdCNMXFp7mAY48NcjKI2bYJeiTJ1TQJbiIV5ms8TeJWFhxvIKuuepLezOhxpBvfgUjsqVb5quHhMs&new=1\n",
      "http://mp.weixin.qq.com/s?src=11&timestamp=1538458467&ver=1157&signature=85wJHb9EU-WpD6vj27UqUKtGv1cFjSbFtjmSvxYry4H6KlqVVx-Q4bpFy5upWDDw4k3Mc3wIQ8QY7PhB00tF0*6eJ20ItSH4rcVit8NAldArcod9ZsHbXi4sUUY6L1vc&new=1\n",
      "http://mp.weixin.qq.com/s?src=11&timestamp=1538458467&ver=1157&signature=AwQsfvJRJmRbwxiFCHk435HaifWV3pELuBTPIPHj1-GpBTDLocdfwQXr97pMKjwGHP1xrl-X-yRfl1aA4Iyo-xyIY2NUlQBc3RZxPmW9VOxkQc6FsXaT*O*sKjq4Qgdf&new=1\n"
     ]
    }
   ],
   "source": [
    "for item in items:\n",
    "    print(item.attr('href'))"
   ]
  },
  {
   "cell_type": "code",
   "execution_count": 10,
   "metadata": {},
   "outputs": [
    {
     "data": {
      "text/plain": [
       "'?query=nba&type=2&page=2&ie=utf8'"
      ]
     },
     "execution_count": 10,
     "metadata": {},
     "output_type": "execute_result"
    }
   ],
   "source": [
    "doc('#sogou_next').attr('href')"
   ]
  },
  {
   "cell_type": "code",
   "execution_count": null,
   "metadata": {},
   "outputs": [],
   "source": [
    "                                                                                                                                                                                                                                                                                                                                                                                                                                                                                                                                                                                                                                                                                                                            "
   ]
  }
 ],
 "metadata": {
  "kernelspec": {
   "display_name": "Python [conda env:WebCrawlingEnv]",
   "language": "python",
   "name": "conda-env-WebCrawlingEnv-py"
  },
  "language_info": {
   "codemirror_mode": {
    "name": "ipython",
    "version": 3
   },
   "file_extension": ".py",
   "mimetype": "text/x-python",
   "name": "python",
   "nbconvert_exporter": "python",
   "pygments_lexer": "ipython3",
   "version": "3.6.6"
  }
 },
 "nbformat": 4,
 "nbformat_minor": 2
}

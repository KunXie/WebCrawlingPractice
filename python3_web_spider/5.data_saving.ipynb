{
 "cells": [
  {
   "cell_type": "markdown",
   "metadata": {},
   "source": [
    "# 5.1 文件存储\n",
    "   \n",
    "    5.1.1 TXT\n",
    "        TXT 文本几乎兼容任何平台，但是这有个缺点， 那就是不利于检索\n",
    "        打开方式：r / rb / r+ / rb+ / w / wb / wb+ / a / ab / a+ / ab\n",
    "    5.1.2 JSON\n",
    "        构造简洁但是结构化程度非常高，是一种轻量级的数据交换格式\n",
    "        json.loads(): 将JSON文本字符串转为JSON对象\n",
    "        json.dumps(jsondata, indent=2, ensure_ascii=False): 将JSON对象转为文本字符串 ## 如果想保存JSON 的格式, 可以再加一个参数indent, 代表缩进字符个数, 为了输出中文，还需要指定参数ensure_ascii=False\n",
    "        data.get() 如果键值不存在不会报错，但会反回None, 如果传入第二个参数(即默认值)，那么在不存在的情况下返回该默认值\n",
    "        !!! JSON字符串的表示需要用双引号，否则loads()方法会解析失败\n",
    "        \n",
    "    5.1.3 CSV\n",
    "    f.writerow([], [], [])"
   ]
  },
  {
   "cell_type": "code",
   "execution_count": 1,
   "metadata": {},
   "outputs": [],
   "source": [
    "import requests\n",
    "from pyquery import PyQuery as pq\n",
    "\n",
    "url = 'https://www.zhihu.com/explore'\n",
    "headers = {\n",
    "    'User-Agent': 'Mozilla/5.0 (Macintosh; Intel Max OS X 10_12_3) AppleWebKit/537.36 (KHTML, like Gecko) Chrome/58.0.3029.110 Safari/537.36'\n",
    "}\n",
    "html = requests.get(url, headers=headers).text\n",
    "doc = pq(html)\n",
    "items = doc('.explore-tab .feed-item').items()\n",
    "for item in items:\n",
    "    question = item.find('h2').text()\n",
    "    author = item.find('.author-link-line').text()\n",
    "    answer = pq(item.find('.content').html()).text()\n",
    "    file = open('explore.txt', 'a', encoding='utf-8')\n",
    "    file.write('\\n'.join([question, author, answer]))\n",
    "    file.write('\\n' + '='*50 + '\\n')\n",
    "    file.close()"
   ]
  },
  {
   "cell_type": "code",
   "execution_count": 8,
   "metadata": {},
   "outputs": [],
   "source": [
    "# # 简化写法，with控制块在结束时，文件会自动关闭，不需要close()\n",
    "# with open('explore.txt', 'a', encoding='utf-8') as file: \n",
    "#     file.write('\\n'.join([question, author, answer])) \n",
    "#     file.write('\\n' + '='*50 + '\\n')"
   ]
  },
  {
   "cell_type": "code",
   "execution_count": null,
   "metadata": {},
   "outputs": [],
   "source": []
  },
  {
   "cell_type": "markdown",
   "metadata": {},
   "source": [
    "# 5.2 关系型数据库\n",
    "    \n",
    "    5.2.1 MySQL\n",
    "    标准执行语句:\n",
    "    try:\n",
    "        cursor.execute(sql)\n",
    "        db.commit()\n",
    "    except:\n",
    "        db.rollback()"
   ]
  },
  {
   "cell_type": "code",
   "execution_count": 15,
   "metadata": {},
   "outputs": [
    {
     "name": "stdout",
     "output_type": "stream",
     "text": [
      "Database version: ('8.0.12',)\n"
     ]
    }
   ],
   "source": [
    "import pymysql\n",
    "# 通过 PyMySQL的connect()方法声明一个MySQL连接对象巾\n",
    "db = pymysql.connect(host='localhost', user='root', password='19930215', port=3306)\n",
    "# 调用 cursor()方法获得 MySQL 的操作游标，利用游标来执行 SQL 语句 \n",
    "cursor = db.cursor()\n",
    "cursor.execute(\"SELECT VERSION()\")\n",
    "# 调用 fetchone()方法获得第一条数据，也就得到了版本号\n",
    "data = cursor.fetchone()\n",
    "print(\"Database version:\", data)"
   ]
  },
  {
   "cell_type": "code",
   "execution_count": null,
   "metadata": {},
   "outputs": [],
   "source": []
  },
  {
   "cell_type": "code",
   "execution_count": null,
   "metadata": {},
   "outputs": [],
   "source": []
  },
  {
   "cell_type": "code",
   "execution_count": null,
   "metadata": {},
   "outputs": [],
   "source": []
  },
  {
   "cell_type": "markdown",
   "metadata": {},
   "source": [
    "# 5.3 非关系型数据库\n",
    "\n",
    "    5.3.1 MongoDB \n",
    "            也可以通过正则表达式 功能符号 或者 比较符号来查询\n",
    "    5.3.2 Redis"
   ]
  },
  {
   "cell_type": "markdown",
   "metadata": {},
   "source": [
    "        \n",
    "    $type 操作符\n",
    "    \n",
    "| 类型\t| 数字|\t备注|\n",
    "|---| ---| --- |\n",
    "|Double\t|1||\t \n",
    "|String\t|2\t \n",
    "|Object\t|3\t \n",
    "|Array\t|4\t \n",
    "|Binary data\t|5\t \n",
    "|Undefined\t|6\t|已废弃。|\n",
    "|Object id\t|7\t \n",
    "|Boolean\t|8\t \n",
    "|Date\t|9\t \n",
    "|Null\t|10\t \n",
    "|Regular Expression\t|11\t \n",
    "|JavaScript\t|13\t \n",
    "|Symbol\t|14\t \n",
    "|JavaScript (with scope)\t|15\t \n",
    "|32-bit integer\t|16\t \n",
    "|Timestamp\t|17\t \n",
    "|64-bit integer\t|18\t \n",
    "|Min key\t|255\t|Query with -1.|\n",
    "|Max key\t|127\t "
   ]
  },
  {
   "cell_type": "code",
   "execution_count": null,
   "metadata": {},
   "outputs": [],
   "source": []
  },
  {
   "cell_type": "code",
   "execution_count": 27,
   "metadata": {},
   "outputs": [],
   "source": [
    "import pymongo\n",
    "client = pymongo.MongoClient(host='localhost', port=27017) # 连接MongoDB\n",
    "# OR\n",
    "# client = pymongo.MongoClient('mongodb://localhost:27017')\n",
    "\n",
    "db = client.test # OR client['test'] # 指定数据库\n",
    "# 指定集合 Collection\n",
    "collection = db.students # OR db['students']"
   ]
  },
  {
   "cell_type": "code",
   "execution_count": 28,
   "metadata": {},
   "outputs": [
    {
     "name": "stdout",
     "output_type": "stream",
     "text": [
      "<pymongo.results.InsertOneResult object at 0x1135b67c8>\n"
     ]
    }
   ],
   "source": [
    "student = {\n",
    "    'id': '20170101',\n",
    "    'name': 'Jordan',\n",
    "    'age': 20,\n",
    "    'gender': 'male'\n",
    "}\n",
    "result = collection.insert_one(student) # 使用 insert_one 或者 insert_many\n",
    "print(result)"
   ]
  },
  {
   "cell_type": "code",
   "execution_count": 43,
   "metadata": {},
   "outputs": [
    {
     "name": "stdout",
     "output_type": "stream",
     "text": [
      "<pymongo.results.InsertManyResult object at 0x1135d2348>\n",
      "[ObjectId('5b962521bea2f9104c45168b'), ObjectId('5b962521bea2f9104c45168c')]\n"
     ]
    }
   ],
   "source": [
    "student1 = {\n",
    "    'id': '20170101',\n",
    "    'name': 'Kevi',\n",
    "    'age': 20,\n",
    "    'gender': 'male'\n",
    "}\n",
    "student2 = {\n",
    "    'id': '20170102',\n",
    "    'name': 'Mike',\n",
    "    'age': 21,\n",
    "    'gender': 'male'\n",
    "}\n",
    "result = collection.insert_many([student1, student2])\n",
    "print(result)\n",
    "print(result.inserted_ids)"
   ]
  },
  {
   "cell_type": "code",
   "execution_count": 31,
   "metadata": {},
   "outputs": [
    {
     "name": "stdout",
     "output_type": "stream",
     "text": [
      "<class 'dict'>\n",
      "{'_id': ObjectId('5b962249bea2f9104c45168a'), 'id': '20170102', 'name': 'Mike', 'age': 21, 'gender': 'male'}\n"
     ]
    }
   ],
   "source": [
    "# 查询\n",
    "result = collection.find_one({'name': 'Mike'})\n",
    "print(type(result))\n",
    "print(result)"
   ]
  },
  {
   "cell_type": "code",
   "execution_count": 33,
   "metadata": {},
   "outputs": [
    {
     "name": "stdout",
     "output_type": "stream",
     "text": [
      "{'_id': ObjectId('5b962249bea2f9104c45168a'), 'id': '20170102', 'name': 'Mike', 'age': 21, 'gender': 'male'}\n"
     ]
    }
   ],
   "source": [
    "# 根据Objectid来查询, 如果查询结果不存在，则会返回 None。\n",
    "from bson.objectid import ObjectId\n",
    "result = collection.find_one({'_id': ObjectId('5b962249bea2f9104c45168a')})\n",
    "print(result)"
   ]
  },
  {
   "cell_type": "code",
   "execution_count": 41,
   "metadata": {},
   "outputs": [
    {
     "data": {
      "text/plain": [
       "2"
      ]
     },
     "execution_count": 41,
     "metadata": {},
     "output_type": "execute_result"
    }
   ],
   "source": [
    "# 计数\n",
    "collection.count_documents({'age': 20})"
   ]
  },
  {
   "cell_type": "code",
   "execution_count": 44,
   "metadata": {},
   "outputs": [
    {
     "ename": "TypeError",
     "evalue": "'NoneType' object does not support item assignment",
     "output_type": "error",
     "traceback": [
      "\u001b[0;31m---------------------------------------------------------------------------\u001b[0m",
      "\u001b[0;31mTypeError\u001b[0m                                 Traceback (most recent call last)",
      "\u001b[0;32m<ipython-input-44-b83f0234999b>\u001b[0m in \u001b[0;36m<module>\u001b[0;34m()\u001b[0m\n\u001b[1;32m      2\u001b[0m \u001b[0mcondition\u001b[0m \u001b[0;34m=\u001b[0m\u001b[0;34m{\u001b[0m\u001b[0;34m'name'\u001b[0m\u001b[0;34m:\u001b[0m \u001b[0;34m'Kevin'\u001b[0m \u001b[0;34m}\u001b[0m\u001b[0;34m\u001b[0m\u001b[0m\n\u001b[1;32m      3\u001b[0m \u001b[0mstudent\u001b[0m \u001b[0;34m=\u001b[0m \u001b[0mcollection\u001b[0m\u001b[0;34m.\u001b[0m\u001b[0mfind_one\u001b[0m\u001b[0;34m(\u001b[0m\u001b[0mcondition\u001b[0m\u001b[0;34m)\u001b[0m\u001b[0;34m\u001b[0m\u001b[0m\n\u001b[0;32m----> 4\u001b[0;31m \u001b[0mstudent\u001b[0m\u001b[0;34m[\u001b[0m\u001b[0;34m'age'\u001b[0m\u001b[0;34m]\u001b[0m \u001b[0;34m=\u001b[0m \u001b[0;36m25\u001b[0m\u001b[0;34m\u001b[0m\u001b[0m\n\u001b[0m\u001b[1;32m      5\u001b[0m \u001b[0mresult\u001b[0m \u001b[0;34m=\u001b[0m \u001b[0mcollection\u001b[0m\u001b[0;34m.\u001b[0m\u001b[0mupdate\u001b[0m\u001b[0;34m(\u001b[0m\u001b[0mcondition\u001b[0m\u001b[0;34m,\u001b[0m \u001b[0mstudent\u001b[0m\u001b[0;34m)\u001b[0m  \u001b[0;31m#或 collection.update(condition, {'$set': student})\u001b[0m\u001b[0;34m\u001b[0m\u001b[0m\n\u001b[1;32m      6\u001b[0m \u001b[0mprint\u001b[0m\u001b[0;34m(\u001b[0m\u001b[0mresult\u001b[0m\u001b[0;34m)\u001b[0m\u001b[0;34m\u001b[0m\u001b[0m\n",
      "\u001b[0;31mTypeError\u001b[0m: 'NoneType' object does not support item assignment"
     ]
    }
   ],
   "source": [
    "# 更新 update_one update_many\n",
    "condition ={'name': 'Kevin' }\n",
    "student = collection.find_one(condition) \n",
    "student['age'] = 25\n",
    "result = collection.update(condition, student)  #或 collection.update(condition, {'$set': student})\n",
    "print(result)"
   ]
  },
  {
   "cell_type": "code",
   "execution_count": null,
   "metadata": {},
   "outputs": [],
   "source": [
    "# delete_one()  delete_many()\n",
    "# find_one_and_delete()\n",
    "# find_one_and_replace()\n",
    "# find_one_and_update()\n",
    "# create_index()\n",
    "# create_indexes()\n",
    "# drop_index()"
   ]
  },
  {
   "cell_type": "code",
   "execution_count": null,
   "metadata": {},
   "outputs": [],
   "source": []
  }
 ],
 "metadata": {
  "kernelspec": {
   "display_name": "Python [conda env:WebCrawlingEnv]",
   "language": "python",
   "name": "conda-env-WebCrawlingEnv-py"
  },
  "language_info": {
   "codemirror_mode": {
    "name": "ipython",
    "version": 3
   },
   "file_extension": ".py",
   "mimetype": "text/x-python",
   "name": "python",
   "nbconvert_exporter": "python",
   "pygments_lexer": "ipython3",
   "version": "3.6.6"
  }
 },
 "nbformat": 4,
 "nbformat_minor": 2
}
